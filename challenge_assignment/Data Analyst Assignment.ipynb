{
 "cells": [
  {
   "cell_type": "markdown",
   "metadata": {},
   "source": [
    "  "
   ]
  },
  {
   "cell_type": "markdown",
   "metadata": {},
   "source": [
    "## Data Analyst Assignment"
   ]
  },
  {
   "cell_type": "markdown",
   "metadata": {},
   "source": [
    "  "
   ]
  },
  {
   "cell_type": "markdown",
   "metadata": {},
   "source": [
    "   \n",
    "   "
   ]
  },
  {
   "cell_type": "markdown",
   "metadata": {},
   "source": [
    "   "
   ]
  },
  {
   "cell_type": "markdown",
   "metadata": {},
   "source": [
    "### Part I – Python\n",
    "The attached SeasonFixtures csv file contains all of 2021/2022 Premier League fixtures. \n",
    "\n",
    "\n",
    "Please create the standings table after completing all 38 rounds.\n",
    "\n",
    "The standings table should include the following fields:\n",
    "\n",
    "    \n",
    "**Position** |**TeamName**\t|**GamesPlayed** |**Wins** |**Draws** |**Losses** |**Scored:Received** |**GoalsDifference** |**Points**\n",
    ":----|----|----|----|----|----|----|----|----\n",
    "1 |Manchester City|38|29|6|3|99:26|73|93\n",
    "2 |Liverpool FC|38|28|8|2|94:26|68|92\n",
    "\n",
    "\n",
    "\n",
    "###### *Competition Rules:*\n",
    "1. Three points are awarded for a win, one point for a draw, and none for a defeat.\n",
    "\n",
    "2. If any clubs finish with the same number of points, their position is determined by goal difference, then the number of goals scored. If the teams still cannot be separated, they will be awarded the same position in the table.\n",
    "\n",
    "\n",
    "\n",
    "\n",
    "\n",
    "*  *Please note that the score in parentheses represents the half time score*"
   ]
  },
  {
   "cell_type": "markdown",
   "metadata": {},
   "source": [
    "   \n",
    "   \n",
    "   \n",
    "   \n",
    "   \n",
    "      "
   ]
  },
  {
   "cell_type": "markdown",
   "metadata": {},
   "source": [
    "   "
   ]
  },
  {
   "cell_type": "markdown",
   "metadata": {},
   "source": [
    "### Part II – SQL\n",
    "\n",
    "Please solve the previous question using SQL.\n",
    "\n",
    "\n"
   ]
  },
  {
   "cell_type": "markdown",
   "metadata": {},
   "source": [
    "   "
   ]
  },
  {
   "cell_type": "markdown",
   "metadata": {},
   "source": [
    "    "
   ]
  },
  {
   "cell_type": "markdown",
   "metadata": {},
   "source": [
    "### Part III – Data Manipulation\n",
    "\n",
    "As part of Company's offering, we are providing a model that forecasts monthly sales by the car manufacturer.\n",
    "\n",
    "However, for some series, the model fails to generate forecast outputs.\n",
    "\n",
    "1. Please find the attached log file and write a script that extract the failed status and reasons by manufacturer (brand). Your output should composed the following:\n",
    " - Brand\n",
    " - Status\n",
    " - Reason\n",
    "\n",
    "\n",
    "For example:\n",
    "\n",
    "\n",
    "**brand** |**status** |**reason** \n",
    ":----|----|----\n",
    "Tesla |minimum series length issue|We have only 22 days of data in the last 90 days\n",
    "Honda |minimum series length issue|We have only 1 day of data in the last 90 days\n",
    "\n"
   ]
  },
  {
   "cell_type": "markdown",
   "metadata": {},
   "source": [
    "2. Please suggest a solution for the prediction problem whenever a series can't be predicted by the model, so the model will be able to generate predictions. Base your answer on *Geely*.\n",
    "    \n",
    "    Your answer should be reasoned and be explained in words (not as a script).\n",
    "    \n",
    "    \n",
    "\n",
    "3. Please specify what other information would you like to be added to the log file to ease the parsing process."
   ]
  },
  {
   "cell_type": "markdown",
   "metadata": {},
   "source": [
    "    "
   ]
  },
  {
   "cell_type": "markdown",
   "metadata": {},
   "source": [
    "\n",
    "\n",
    "\n",
    "\n",
    "##### Good Luck\n"
   ]
  }
 ],
 "metadata": {
  "kernelspec": {
   "display_name": "Python 3",
   "language": "python",
   "name": "python3"
  },
  "language_info": {
   "codemirror_mode": {
    "name": "ipython",
    "version": 3
   },
   "file_extension": ".py",
   "mimetype": "text/x-python",
   "name": "python",
   "nbconvert_exporter": "python",
   "pygments_lexer": "ipython3",
   "version": "3.8.3"
  },
  "vp": {
   "vp_config_version": "1.0.0",
   "vp_menu_width": 273,
   "vp_note_display": true,
   "vp_note_width": 263,
   "vp_position": {
    "width": 541
   },
   "vp_section_display": false,
   "vp_signature": "VisualPython"
  }
 },
 "nbformat": 4,
 "nbformat_minor": 5
}
